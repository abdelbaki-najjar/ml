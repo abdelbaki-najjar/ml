{
 "cells": [
  {
   "cell_type": "markdown",
   "metadata": {},
   "source": [
    "# numpy\n",
    "NumPy is the fundamental library for the numerical computation. It is an integral \n",
    "part of the Scientific Python Ecosystem."
   ]
  },
  {
   "cell_type": "code",
   "execution_count": 1,
   "metadata": {},
   "outputs": [],
   "source": [
    "import numpy as np"
   ]
  },
  {
   "cell_type": "code",
   "execution_count": 3,
   "metadata": {},
   "outputs": [
    {
     "data": {
      "text/plain": [
       "array([1, 2, 3])"
      ]
     },
     "execution_count": 3,
     "metadata": {},
     "output_type": "execute_result"
    }
   ],
   "source": [
    " #simple Ndarray as follows:\n",
    "lst1 = [1, 2, 3]\n",
    "arr1 = np.array(lst1)\n",
    "arr1"
   ]
  },
  {
   "cell_type": "code",
   "execution_count": 4,
   "metadata": {},
   "outputs": [
    {
     "data": {
      "text/plain": [
       "array([[1, 2, 3],\n",
       "       [4, 5, 6]], dtype=int16)"
      ]
     },
     "execution_count": 4,
     "metadata": {},
     "output_type": "execute_result"
    }
   ],
   "source": [
    "#multidimensional arrays as follows:\n",
    "arr1 = np.array([[1, 2, 3], [4, 5, 6]], np.int16)\n",
    "arr1\n"
   ]
  },
  {
   "cell_type": "code",
   "execution_count": 8,
   "metadata": {},
   "outputs": [
    {
     "name": "stdout",
     "output_type": "stream",
     "text": [
      "1\n",
      "0\n",
      "[5 0 1]\n",
      "3\n",
      "(3, 2, 3)\n",
      "[[[ 1  7 -1]\n",
      "  [ 4  0  1]]\n",
      "\n",
      " [[ 2  8 -1]\n",
      "  [ 5  0  1]]\n",
      "\n",
      " [[ 3  9 -1]\n",
      "  [ 6  0  1]]]\n"
     ]
    }
   ],
   "source": [
    "# 3d arrays\n",
    "arr1 = np.array([[[1, 2, 3], [4, 5, 6]],\n",
    " [[7, 8, 9], [0, 0, 0]],\n",
    " [[-1, -1, -1], [1, 1, 1]]], np.int16)\n",
    "print(arr1 [0, 0, 0])\n",
    "print(arr1 [1, 1, 2])\n",
    "print(arr1 [:, 1, 1])\n",
    "print(arr1.ndim)\n",
    "print(arr1.shape)\n",
    "# compute the transpose\n",
    "print(arr1.T)"
   ]
  },
  {
   "cell_type": "markdown",
   "metadata": {},
   "source": [
    " NumPy Constants\n",
    " NumPy library has many useful mathematical and scientific constants we can use in programs. The following code snippet prints all such important constants"
   ]
  },
  {
   "cell_type": "code",
   "execution_count": 9,
   "metadata": {},
   "outputs": [
    {
     "name": "stdout",
     "output_type": "stream",
     "text": [
      "inf\n",
      "nan\n",
      "-inf\n",
      "-0.0\n",
      "0.0\n",
      "2.718281828459045\n",
      "0.5772156649015329\n",
      "3.141592653589793\n"
     ]
    }
   ],
   "source": [
    " print(np.inf)\n",
    " print(np.NAN)\n",
    " print(np.NINF)\n",
    " print(np.NZERO)\n",
    " print(np.PZERO)\n",
    " print(np.e)\n",
    " print(np.euler_gamma)\n",
    " print(np.pi)"
   ]
  },
  {
   "cell_type": "code",
   "execution_count": null,
   "metadata": {},
   "outputs": [],
   "source": []
  }
 ],
 "metadata": {
  "kernelspec": {
   "display_name": "base",
   "language": "python",
   "name": "python3"
  },
  "language_info": {
   "codemirror_mode": {
    "name": "ipython",
    "version": 3
   },
   "file_extension": ".py",
   "mimetype": "text/x-python",
   "name": "python",
   "nbconvert_exporter": "python",
   "pygments_lexer": "ipython3",
   "version": "3.12.4"
  }
 },
 "nbformat": 4,
 "nbformat_minor": 2
}
